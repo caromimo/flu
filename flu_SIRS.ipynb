{
 "metadata": {
  "name": ""
 },
 "nbformat": 3,
 "nbformat_minor": 0,
 "worksheets": [
  {
   "cells": [
    {
     "cell_type": "code",
     "collapsed": false,
     "input": [
      "import scipy\n",
      "import scipy.integrate\n",
      "import pylab as plt"
     ],
     "language": "python",
     "metadata": {},
     "outputs": [],
     "prompt_number": 15
    },
    {
     "cell_type": "code",
     "collapsed": false,
     "input": [
      "beta = 0.003"
     ],
     "language": "python",
     "metadata": {},
     "outputs": [],
     "prompt_number": 28
    },
    {
     "cell_type": "code",
     "collapsed": false,
     "input": [
      "gamma = 0.1"
     ],
     "language": "python",
     "metadata": {},
     "outputs": [],
     "prompt_number": 29
    },
    {
     "cell_type": "code",
     "collapsed": false,
     "input": [
      "sigma = 0.1"
     ],
     "language": "python",
     "metadata": {},
     "outputs": [],
     "prompt_number": 30
    },
    {
     "cell_type": "code",
     "collapsed": false,
     "input": [
      "def SIRS_model(X,t=0):\n",
      "    r=scipy.array([-beta*X[0]*X[1] + sigma*X[2]\n",
      "                   , beta*X[0]*X[1] - gamma*X[1]\n",
      "                   , gamma*X[1] ] - sigma*X[2])\n",
      "    return r"
     ],
     "language": "python",
     "metadata": {},
     "outputs": [],
     "prompt_number": 31
    },
    {
     "cell_type": "code",
     "collapsed": false,
     "input": [
      "if __name__ == \"__main__\":\n",
      "    time = scipy.linspace(0,60,num=100)\n",
      "    parameters = scipy.array([225,1,0])\n",
      "    X = scipy.integrate.odeint(SIRS_model, parameters, time)"
     ],
     "language": "python",
     "metadata": {},
     "outputs": [],
     "prompt_number": 32
    },
    {
     "cell_type": "code",
     "collapsed": false,
     "input": [
      "plt.plot(range(0,100), X[:,0],'o', color=\"green\")\n",
      "plt.plot(range(0,100), X[:,1],'x', color=\"red\")\n",
      "plt.plot(range(0,100), X[:,2],'*', color=\"blue\")\n",
      "plt.show()"
     ],
     "language": "python",
     "metadata": {},
     "outputs": [],
     "prompt_number": 33
    },
    {
     "cell_type": "raw",
     "metadata": {},
     "source": [
      "Below is the plot that was generated from the above script:\n",
      "\n",
      "So my understanding at this point is that the:\n",
      "green os represent the susceptible individuals\n",
      "red xs represent the infected individuals\n",
      "blue *s represent the recovered individuals"
     ]
    },
    {
     "cell_type": "markdown",
     "metadata": {},
     "source": [
      "![caption](files/figure_flu_SIRS.png)"
     ]
    },
    {
     "cell_type": "code",
     "collapsed": false,
     "input": [],
     "language": "python",
     "metadata": {},
     "outputs": []
    }
   ],
   "metadata": {}
  }
 ]
}